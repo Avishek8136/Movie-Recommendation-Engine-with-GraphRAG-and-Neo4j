{
 "cells": [
  {
   "cell_type": "markdown",
   "metadata": {},
   "source": [
    "## Importing Libraries"
   ]
  },
  {
   "cell_type": "code",
   "execution_count": 1,
   "metadata": {},
   "outputs": [],
   "source": [
    "import numpy as np\n",
    "import pandas as pd\n",
    "from sklearn.preprocessing import MinMaxScaler\n",
    "from sklearn.metrics.pairwise import cosine_similarity\n",
    "from sklearn.feature_extraction.text import TfidfVectorizer"
   ]
  },
  {
   "cell_type": "markdown",
   "metadata": {},
   "source": [
    "## Connecting to Graph DB"
   ]
  },
  {
   "cell_type": "code",
   "execution_count": 2,
   "metadata": {},
   "outputs": [
    {
     "name": "stdout",
     "output_type": "stream",
     "text": [
      "Connected to Neo4j!\n"
     ]
    }
   ],
   "source": [
    "from py2neo import Graph, Node\n",
    "\n",
    "graph = Graph(\"bolt://localhost:7687\", auth=(\"neo4j\", \"password\"))\n",
    "print(\"Connected to Neo4j!\")\n",
    "graph.delete_all()"
   ]
  },
  {
   "cell_type": "markdown",
   "metadata": {},
   "source": [
    "## Loading Dataset"
   ]
  },
  {
   "cell_type": "code",
   "execution_count": 3,
   "metadata": {},
   "outputs": [
    {
     "data": {
      "text/plain": [
       "(9999, 10)"
      ]
     },
     "execution_count": 3,
     "metadata": {},
     "output_type": "execute_result"
    }
   ],
   "source": [
    "df = pd.read_csv('bollywood_data_set.csv')\n",
    "df.shape"
   ]
  },
  {
   "cell_type": "markdown",
   "metadata": {},
   "source": [
    "## Data Cleaning"
   ]
  },
  {
   "cell_type": "code",
   "execution_count": 4,
   "metadata": {},
   "outputs": [
    {
     "name": "stdout",
     "output_type": "stream",
     "text": [
      "Unnamed: 0            0\n",
      "imdb-id               0\n",
      "movie_name            0\n",
      "year_of_release     200\n",
      "runtime               0\n",
      "IMDB_rating           0\n",
      "no_of_votes           0\n",
      "plot_description      0\n",
      "director              0\n",
      "actors              465\n",
      "dtype: int64\n"
     ]
    }
   ],
   "source": [
    "print(df.isnull().sum())"
   ]
  },
  {
   "cell_type": "code",
   "execution_count": 5,
   "metadata": {},
   "outputs": [
    {
     "data": {
      "text/plain": [
       "(7645, 10)"
      ]
     },
     "execution_count": 5,
     "metadata": {},
     "output_type": "execute_result"
    }
   ],
   "source": [
    "df = df.drop_duplicates(subset=['imdb-id']).dropna(subset=['movie_name', 'plot_description', 'director', 'actors', 'IMDB_rating'])\n",
    "\n",
    "df['no_of_votes'] = df['no_of_votes'].str.replace(',', '').str.strip()  \n",
    "df['no_of_votes'] = pd.to_numeric(df['no_of_votes'], errors='coerce')  \n",
    "\n",
    "df = df.dropna(subset=['no_of_votes'])\n",
    "df.shape"
   ]
  },
  {
   "cell_type": "code",
   "execution_count": 6,
   "metadata": {},
   "outputs": [],
   "source": [
    "df['year_of_release'] = df['year_of_release'].str.extract(r'(\\d{4})')\n",
    "df['year_of_release'] = pd.to_numeric(df['year_of_release'], errors='coerce') \n",
    "df = df.dropna(subset=['year_of_release'])  "
   ]
  },
  {
   "cell_type": "code",
   "execution_count": 7,
   "metadata": {},
   "outputs": [],
   "source": [
    "df = df[df['plot_description'] != 'Add a Plot']"
   ]
  },
  {
   "cell_type": "code",
   "execution_count": 8,
   "metadata": {},
   "outputs": [
    {
     "data": {
      "text/plain": [
       "(6580, 10)"
      ]
     },
     "execution_count": 8,
     "metadata": {},
     "output_type": "execute_result"
    }
   ],
   "source": [
    "df.shape"
   ]
  },
  {
   "cell_type": "markdown",
   "metadata": {},
   "source": [
    "## Normalize Numerical Features"
   ]
  },
  {
   "cell_type": "code",
   "execution_count": 9,
   "metadata": {},
   "outputs": [
    {
     "name": "stdout",
     "output_type": "stream",
     "text": [
      "   no_of_votes  votes_scaled  year_of_release  year_scaled\n",
      "0     548031.0      1.000000           2022.0     1.000000\n",
      "1     387020.0      0.706198           2009.0     0.857143\n",
      "2     188938.0      0.344752           2007.0     0.835165\n",
      "3     183452.0      0.334741           2016.0     0.934066\n",
      "4     180108.0      0.328640           2014.0     0.912088\n"
     ]
    }
   ],
   "source": [
    "scaler = MinMaxScaler()\n",
    "df['votes_scaled'] = scaler.fit_transform(df[['no_of_votes']])\n",
    "df['year_scaled'] = scaler.fit_transform(df[['year_of_release']])\n",
    "\n",
    "print(df[['no_of_votes', 'votes_scaled', 'year_of_release', 'year_scaled']].head())"
   ]
  },
  {
   "cell_type": "markdown",
   "metadata": {},
   "source": [
    "## TF-IDF for plot descriptions"
   ]
  },
  {
   "cell_type": "code",
   "execution_count": 10,
   "metadata": {},
   "outputs": [
    {
     "name": "stdout",
     "output_type": "stream",
     "text": [
      "Data preprocessing complete!\n"
     ]
    }
   ],
   "source": [
    "tfidf = TfidfVectorizer(stop_words='english')\n",
    "tfidf_matrix = tfidf.fit_transform(df['plot_description'])\n",
    "\n",
    "print(\"Data preprocessing complete!\")"
   ]
  },
  {
   "cell_type": "markdown",
   "metadata": {},
   "source": [
    "## Populating Neo4j Database"
   ]
  },
  {
   "cell_type": "markdown",
   "metadata": {},
   "source": [
    "### Add movies as nodes"
   ]
  },
  {
   "cell_type": "code",
   "execution_count": 11,
   "metadata": {},
   "outputs": [
    {
     "name": "stdout",
     "output_type": "stream",
     "text": [
      "Movies added to Neo4j!\n"
     ]
    }
   ],
   "source": [
    "for _, row in df.iterrows():\n",
    "    movie_node = Node(\n",
    "        \"Movie\",\n",
    "        imdb_id=row['imdb-id'],\n",
    "        name=row['movie_name'],\n",
    "        year=row['year_of_release'],\n",
    "        votes=row['no_of_votes'],\n",
    "        rating=row['IMDB_rating'],\n",
    "        plot=row['plot_description'],\n",
    "        directors=row['director'],\n",
    "        actors=row['actors']\n",
    "    )\n",
    "    graph.create(movie_node)\n",
    "\n",
    "print(\"Movies added to Neo4j!\")"
   ]
  },
  {
   "cell_type": "markdown",
   "metadata": {},
   "source": [
    "## Compute Movie Similarities"
   ]
  },
  {
   "cell_type": "code",
   "execution_count": 12,
   "metadata": {},
   "outputs": [
    {
     "name": "stdout",
     "output_type": "stream",
     "text": [
      "Similar relationships created!\n"
     ]
    }
   ],
   "source": [
    "\n",
    "plot_similarity = cosine_similarity(tfidf_matrix, tfidf_matrix)\n",
    "\n",
    "# Function to compute actor/director similarity (exact match for simplicity)\n",
    "def compute_actor_director_similarity(row1, row2):\n",
    "    if pd.isna(row1['actors']) or pd.isna(row2['actors']) or pd.isna(row1['director']) or pd.isna(row2['director']):\n",
    "        return 0  \n",
    "\n",
    "    actors1, actors2 = set(row1['actors'].split(', ')), set(row2['actors'].split(', '))\n",
    "    directors1, directors2 = set(row1['director'].split(', ')), set(row2['director'].split(', '))\n",
    "    common_actors = len(actors1 & actors2) / max(len(actors1 | actors2), 1)\n",
    "    common_directors = len(directors1 & directors2) / max(len(directors1 | directors2), 1)\n",
    "    return 0.5 * common_actors + 0.5 * common_directors\n",
    "\n",
    "# Combine similarities into a score\n",
    "def compute_similarity(idx1, idx2):\n",
    "    plot_sim = plot_similarity[idx1, idx2]\n",
    "    actor_director_sim = compute_actor_director_similarity(df.iloc[idx1], df.iloc[idx2])\n",
    "    \n",
    "    # Normalize differences\n",
    "    year_diff = abs(df.iloc[idx1]['year_scaled'] - df.iloc[idx2]['year_scaled'])\n",
    "    vote_diff = abs(df.iloc[idx1]['votes_scaled'] - df.iloc[idx2]['votes_scaled'])\n",
    "    \n",
    "    # Weighted similarity\n",
    "    return 0.4 * plot_sim + 0.3 * actor_director_sim + 0.2 * (1 - year_diff) + 0.1 * (1 - vote_diff)\n",
    "\n",
    "# Create relationships in Neo4j based on similarity\n",
    "for i in range(len(df)):\n",
    "    for j in range(i + 1, len(df)):\n",
    "        sim_score = compute_similarity(i, j)\n",
    "        if sim_score > 0.5:  \n",
    "            query = \"\"\"\n",
    "            MATCH (m1:Movie {imdb_id: $imdb1}), (m2:Movie {imdb_id: $imdb2})\n",
    "            CREATE (m1)-[:SIMILAR_TO {score: $score}]->(m2);\n",
    "            \"\"\"\n",
    "            graph.run(query, imdb1=df.iloc[i]['imdb-id'], imdb2=df.iloc[j]['imdb-id'], score=float(sim_score))\n",
    "\n",
    "print(\"Similar relationships created!\")"
   ]
  },
  {
   "cell_type": "markdown",
   "metadata": {},
   "source": [
    "## Recommendation System"
   ]
  },
  {
   "cell_type": "code",
   "execution_count": 3,
   "metadata": {},
   "outputs": [],
   "source": [
    "def recommend_movies(movie_title):\n",
    "    query = \"\"\"\n",
    "    MATCH (m:Movie {name: $movie_title})-[:SIMILAR_TO]->(similar:Movie)\n",
    "    RETURN similar.name AS Recommendation, similar.rating AS Rating, similar.votes AS Votes\n",
    "    ORDER BY similar.rating DESC, similar.votes DESC\n",
    "    LIMIT 3;\n",
    "    \"\"\"\n",
    "    recommendations = graph.run(query, movie_title=movie_title).data()\n",
    "    return recommendations"
   ]
  },
  {
   "cell_type": "markdown",
   "metadata": {},
   "source": [
    "## Test the system"
   ]
  },
  {
   "cell_type": "code",
   "execution_count": 5,
   "metadata": {},
   "outputs": [
    {
     "name": "stdout",
     "output_type": "stream",
     "text": [
      "Recommendations for 'Doraemon: Nobita no Dorabian Naito':\n"
     ]
    }
   ],
   "source": [
    "movie_title = \"Doraemon: Nobita no Dorabian Naito\"\n",
    "recommendations = recommend_movies(movie_title)\n",
    "\n",
    "print(f\"Recommendations for '{movie_title}':\")\n",
    "for idx, rec in enumerate(recommendations, start=1):\n",
    "    print(f\"{idx}. {rec['Recommendation']} (Rating: {rec['Rating']}, Votes: {rec['Votes']})\")"
   ]
  }
 ],
 "metadata": {
  "kernelspec": {
   "display_name": "Python 3",
   "language": "python",
   "name": "python3"
  },
  "language_info": {
   "codemirror_mode": {
    "name": "ipython",
    "version": 3
   },
   "file_extension": ".py",
   "mimetype": "text/x-python",
   "name": "python",
   "nbconvert_exporter": "python",
   "pygments_lexer": "ipython3",
   "version": "3.11.9"
  }
 },
 "nbformat": 4,
 "nbformat_minor": 2
}
